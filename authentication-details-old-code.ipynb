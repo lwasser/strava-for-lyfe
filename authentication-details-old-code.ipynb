{
 "cells": [
  {
   "cell_type": "markdown",
   "metadata": {
    "hideCode": false,
    "hidePrompt": false
   },
   "source": [
    "## Leah's Strava Stats 2016-2020\n",
    "\n",
    "Leah started running consistently in the Fall 2016 right around Thanksgiving. At the time she had significant IT Band issues which limited her runs to maybe 3-5 miles at the most.  leah is uncertain about why she is talking about herself in third person.\n",
    "\n",
    "\n",
    "## API authentication\n",
    "\n",
    "This strava API changed in the past year. There are three parts to authenticating\n",
    "The workflow below shows a one time authentication where the token is good for ~6 hours\n",
    "\n",
    "there is a token refresh option that i will look into next\n",
    "\n",
    "1) Get authorization code from authorization page. This is a one time, manual step. \n",
    "\n",
    "## This works --  key being the activity:read_all scope \n",
    "This is important as ti gives you read access to all of your activities-- get code\n",
    "\n",
    "https://www.strava.com/oauth/authorize?client_id=33627&redirect_uri=http://localhost&response_type=code&scope=activity:read_all\n",
    "\n",
    "the above call will return a code. use the code in the link below which gives you a token\n",
    "Returns something like below. grabt the code\n",
    "http://localhost/?state=&code=cd52fb78fc73dba7b439771d5843d9f96b3f5240&scope=read,activity:read_all\n",
    "\n",
    "**d52fb78fc73dba7b439771d5843d9f96b3f5240**\n",
    "\n",
    "2. Next you can grab a token - the url is: \n",
    "https://www.strava.com/oauth/token?client_id=YOUR_ID&client_secret=YOUR_SECRET&code=YOUR_CODE&grant_type=authorization_code\n"
   ]
  },
  {
   "cell_type": "code",
   "execution_count": 1,
   "metadata": {
    "hideCode": false,
    "hidePrompt": false
   },
   "outputs": [],
   "source": [
    "# import requests\n",
    "\n",
    "# from stravalib import Client\n",
    "# from flask import request\n",
    "\n",
    "# requests.post(\"https://www.strava.com/oauth/token?client_id=33627&client_secret=0c073c33c77e81d2a786799ac5d14670eedd74ce&code=a0d8d1ba81bbcd8ed131918f65f836492d9c10f9&grant_type=authorization_code\")"
   ]
  },
  {
   "cell_type": "markdown",
   "metadata": {
    "hideCode": false,
    "hidePrompt": false
   },
   "source": [
    "# Authentication With Strava \n",
    "\n",
    "This is the trickiest part but it's actually straight forward. \n",
    "First, you need to allow access to your personal strava data. the link below can be \n",
    "created from the uses client_id.\n",
    "\n",
    "The high level workflow is\n",
    "\n",
    "1. Authenticate using a URL like the one below that defines the scope (the permissions) of what you can access. `activity:read_all` seems to work well. This step requires the user to login to strava and accept the permissions. \n",
    "The return of this acceptance if you don't have an app / website set up is a page that looks like an error - but the url of the page has a `code=code-here-long-string-of-characters` element. Copy that code to use in the next \n",
    "step which allows you to get a token.\n",
    "\n",
    "https://www.strava.com/oauth/authorize?client_id=33627&redirect_uri=http://localhost&response_type=code&scope=activity:read_all\n",
    "\n",
    "`example code returned:a1cf8bbf0d46072d5d3da9676b3a9b9bda5807c8`\n",
    "\n",
    "\n",
    "2. Once you have the code you can then use a POST request to get a JSON return that has a few items including a token, a refresh token and other things. Luckily for this step you can actually use the stravalib package to \n",
    "access the interface that returns the token. \n",
    "\n",
    "If you are using postman to test the link below, you can male a POST request to see the returned json.\n",
    "\n",
    "https://www.strava.com/oauth/token?client_id=YOUR_CLIENT_ID&client_secret=YOUR_SECRET_API&code=CODE_RETURNED_FROM_FIRST_AUTHENTICATION_STEP&grant_type=authorization_code\n",
    "\n",
    "\n",
    "TO authenticate with `stravalib`, use the method below.\n",
    "\n",
    "```python\n",
    "client.exchange_code_for_token(client_id=MY_STRAVA_CLIENT_ID,\n",
    "                                               client_secret=MY_STRAVA_CLIENT_SECRET,\n",
    "                                               code=code)\n",
    "\n",
    "```\n",
    "\n",
    "**Important - the code that is returned from the intiial user authentication can only be used once. \n",
    "after that it's invalid.**"
   ]
  },
  {
   "cell_type": "markdown",
   "metadata": {
    "hideCode": false,
    "hidePrompt": false
   },
   "source": []
  },
  {
   "cell_type": "code",
   "execution_count": 2,
   "metadata": {
    "hideCode": false,
    "hidePrompt": false
   },
   "outputs": [],
   "source": [
    "# to convert -- CLI\n",
    "# jupyter nbconvert --to hide_code_html strava.ipynb\n",
    "import os\n",
    "from datetime import datetime\n",
    "from glob import glob\n",
    "\n",
    "import pandas as pd\n",
    "import geopandas as gpd\n",
    "import shapely\n",
    "from shapely.geometry import LineString\n",
    "import matplotlib.pyplot as plt\n",
    "import seaborn as sns\n",
    "import folium\n",
    "\n",
    "from stravalib.client import Client\n",
    "from stravalib.util import limiter\n",
    "\n",
    "\n",
    "from process_strava import authenticate\n",
    "from process_strava import get_activities, get_stream_data \n"
   ]
  },
  {
   "cell_type": "code",
   "execution_count": 3,
   "metadata": {},
   "outputs": [
    {
     "name": "stdout",
     "output_type": "stream",
     "text": [
      "Token still valid, expires at Sun, 21 Feb 2021 21:48:46 MST\n"
     ]
    },
    {
     "data": {
      "text/plain": [
       "<Athlete id=10295934 firstname='Leah' lastname='Wasser'>"
      ]
     },
     "execution_count": 3,
     "metadata": {},
     "output_type": "execute_result"
    }
   ],
   "source": [
    "client = Client(rate_limiter=limiter.DefaultRateLimiter())\n",
    "client = authenticate(\"strava-secrets.txt\", client)\n",
    "\n",
    "athlete_info = client.get_athlete()\n",
    "athlete_info"
   ]
  },
  {
   "cell_type": "code",
   "execution_count": null,
   "metadata": {},
   "outputs": [],
   "source": []
  },
  {
   "cell_type": "code",
   "execution_count": null,
   "metadata": {},
   "outputs": [],
   "source": [
    "# # Create plotly plot for cum miles\n",
    "# # I might. be able to do this better with a for loop and regular vanilly pands plotting (use code below)\n",
    "# trace0 = go.Scatter(\n",
    "#     y=cum_miles[2016],\n",
    "#     mode='lines',\n",
    "#     name='2016',\n",
    "#     connectgaps=True,\n",
    "#     line=dict(\n",
    "#         color=\"grey\")\n",
    "# )\n",
    "\n",
    "# trace1 = go.Scatter(\n",
    "#     y=cum_miles[2017],\n",
    "#     mode='lines',\n",
    "#     name='2017',\n",
    "#     connectgaps=True,\n",
    "#     line=dict(\n",
    "#         color=\"wheat\")\n",
    "# )\n",
    "# trace2 = go.Scatter(\n",
    "#     y=cum_miles[2018],\n",
    "#     mode='lines',\n",
    "#     name='2018',\n",
    "#     connectgaps=True,\n",
    "#     line=dict(\n",
    "#         color=\"lightsalmon\")\n",
    "# )\n",
    "\n",
    "# trace3 = go.Scatter(\n",
    "#     y=cum_miles[2019],\n",
    "#     mode='lines',\n",
    "#     name='2019',\n",
    "#     connectgaps=True,\n",
    "#     line=dict(\n",
    "#         color=\"purple\")\n",
    "# )\n",
    "\n",
    "# trace4 = go.Scatter(\n",
    "#     y=cum_miles[2020],\n",
    "#     mode='lines',\n",
    "#     name='2020',\n",
    "#     connectgaps=True,\n",
    "#     line=dict(\n",
    "#         color=\"purple\")\n",
    "# )\n",
    "\n",
    "# layout = dict(title='Cumulative Miles: 2016-2019',\n",
    "#               xaxis=dict(title='Day of Year'),\n",
    "#               yaxis=dict(title='Miles'),\n",
    "#               )\n",
    "\n",
    "# data = [trace4, trace3, trace2, trace1, trace0]\n",
    "# fig = dict(data=data, layout=layout)\n",
    "# plotly.offline.iplot(fig)"
   ]
  }
 ],
 "metadata": {
  "celltoolbar": "Hide code",
  "hide_code_all_hidden": false,
  "kernelspec": {
   "display_name": "Python 3",
   "language": "python",
   "name": "python3"
  },
  "language_info": {
   "codemirror_mode": {
    "name": "ipython",
    "version": 3
   },
   "file_extension": ".py",
   "mimetype": "text/x-python",
   "name": "python",
   "nbconvert_exporter": "python",
   "pygments_lexer": "ipython3",
   "version": "3.8.6"
  },
  "toc": {
   "base_numbering": 1,
   "nav_menu": {},
   "number_sections": true,
   "sideBar": true,
   "skip_h1_title": false,
   "title_cell": "Table of Contents",
   "title_sidebar": "Contents",
   "toc_cell": false,
   "toc_position": {
    "height": "calc(100% - 180px)",
    "left": "10px",
    "top": "150px",
    "width": "288px"
   },
   "toc_section_display": true,
   "toc_window_display": true
  }
 },
 "nbformat": 4,
 "nbformat_minor": 2
}
